{
 "cells": [
  {
   "cell_type": "code",
   "execution_count": 1,
   "metadata": {},
   "outputs": [],
   "source": [
    "import torch\n",
    "from torch import nn\n",
    "\n",
    "import math\n",
    "import matplotlib.pyplot as plt"
   ]
  },
  {
   "cell_type": "code",
   "execution_count": 2,
   "metadata": {},
   "outputs": [
    {
     "data": {
      "text/plain": [
       "<torch._C.Generator at 0x7f4a9803ced0>"
      ]
     },
     "execution_count": 2,
     "metadata": {},
     "output_type": "execute_result"
    }
   ],
   "source": [
    "torch.manual_seed(111)"
   ]
  },
  {
   "cell_type": "code",
   "execution_count": 3,
   "metadata": {},
   "outputs": [],
   "source": [
    "train_data_length = 1024\n",
    "train_data = torch.zeros((train_data_length, 2))\n",
    "train_data[:, 0] = 2 * math.pi * torch.rand(train_data_length)\n",
    "train_data[:, 1] = torch.sin(train_data[:, 0])\n",
    "train_labels = torch.zeros(train_data_length)\n",
    "train_set = [\n",
    "    (train_data[i], train_labels[i]) for i in range(train_data_length)\n",
    "]"
   ]
  },
  {
   "cell_type": "code",
   "execution_count": 4,
   "metadata": {},
   "outputs": [
    {
     "data": {
      "text/plain": [
       "[<matplotlib.lines.Line2D at 0x7f4a3efd9820>]"
      ]
     },
     "execution_count": 4,
     "metadata": {},
     "output_type": "execute_result"
    },
    {
     "data": {
      "image/png": "[encoded data removed]",
      "text/plain": [
       "<Figure size 432x288 with 1 Axes>"
      ]
     },
     "metadata": {
      "needs_background": "light"
     },
     "output_type": "display_data"
    }
   ],
   "source": [
    "plt.plot(train_data[:, 0], train_data[:, 1], \".\")"
   ]
  },
  {
   "cell_type": "code",
   "execution_count": 5,
   "metadata": {},
   "outputs": [],
   "source": [
    "batch_size = 32\n",
    "train_loader = torch.utils.data.DataLoader(\n",
    "    train_set, batch_size=batch_size, shuffle=True\n",
    ")"
   ]
  },
  {
   "cell_type": "code",
   "execution_count": 6,
   "metadata": {},
   "outputs": [],
   "source": [
    "class Discriminator(nn.Module):\n",
    "    def __init__(self):\n",
    "        super().__init__()\n",
    "        self.model = nn.Sequential(\n",
    "            nn.Linear(2, 256),\n",
    "            nn.ReLU(),\n",
    "            nn.Dropout(0.3),\n",
    "            nn.Linear(256, 128),\n",
    "            nn.ReLU(),\n",
    "            nn.Dropout(0.3),\n",
    "            nn.Linear(128, 64),\n",
    "            nn.ReLU(),\n",
    "            nn.Dropout(0.3),\n",
    "            nn.Linear(64, 1),\n",
    "            nn.Sigmoid(),\n",
    "        )\n",
    "\n",
    "    def forward(self, x):\n",
    "        output = self.model(x)\n",
    "        return output\n",
    "\n",
    "discriminator = Discriminator()"
   ]
  },
  {
   "cell_type": "code",
   "execution_count": 7,
   "metadata": {},
   "outputs": [],
   "source": [
    "class Generator(nn.Module):\n",
    "    def __init__(self):\n",
    "        super().__init__()\n",
    "        self.model = nn.Sequential(\n",
    "            nn.Linear(2, 16),\n",
    "            nn.ReLU(),\n",
    "            nn.Linear(16, 32),\n",
    "            nn.ReLU(),\n",
    "            nn.Linear(32, 2),\n",
    "        )\n",
    "\n",
    "    def forward(self, x):\n",
    "        output = self.model(x)\n",
    "        return output\n",
    "\n",
    "generator = Generator()"
   ]
  },
  {
   "cell_type": "code",
   "execution_count": 8,
   "metadata": {},
   "outputs": [],
   "source": [
    "lr = 0.001\n",
    "num_epochs = 300\n",
    "loss_function = nn.BCELoss()"
   ]
  },
  {
   "cell_type": "code",
   "execution_count": 9,
   "metadata": {},
   "outputs": [],
   "source": [
    "optimizer_discriminator = torch.optim.Adam(discriminator.parameters(), lr=lr)\n",
    "optimizer_generator = torch.optim.Adam(generator.parameters(), lr=lr)"
   ]
  },
  {
   "cell_type": "code",
   "execution_count": 10,
   "metadata": {},
   "outputs": [
    {
     "name": "stdout",
     "output_type": "stream",
     "text": [
      "Epoch: 0 Loss D.: 0.156594917178154\n",
      "Epoch: 0 Loss G.: 2.1254444122314453\n",
      "Epoch: 10 Loss D.: 0.7301512360572815\n",
      "Epoch: 10 Loss G.: 0.8579632043838501\n",
      "Epoch: 20 Loss D.: 0.585105836391449\n",
      "Epoch: 20 Loss G.: 1.2080914974212646\n",
      "Epoch: 30 Loss D.: 0.5456140041351318\n",
      "Epoch: 30 Loss G.: 0.877431333065033\n",
      "Epoch: 40 Loss D.: 0.5823509097099304\n",
      "Epoch: 40 Loss G.: 0.9559783339500427\n",
      "Epoch: 50 Loss D.: 0.6483598947525024\n",
      "Epoch: 50 Loss G.: 0.7741882801055908\n",
      "Epoch: 60 Loss D.: 0.5975947380065918\n",
      "Epoch: 60 Loss G.: 0.7916504740715027\n",
      "Epoch: 70 Loss D.: 0.6498396992683411\n",
      "Epoch: 70 Loss G.: 0.9215092062950134\n",
      "Epoch: 80 Loss D.: 0.68321293592453\n",
      "Epoch: 80 Loss G.: 0.7422409653663635\n",
      "Epoch: 90 Loss D.: 0.6580327153205872\n",
      "Epoch: 90 Loss G.: 0.701499342918396\n",
      "Epoch: 100 Loss D.: 0.6993470788002014\n",
      "Epoch: 100 Loss G.: 0.7206107378005981\n",
      "Epoch: 110 Loss D.: 0.685271143913269\n",
      "Epoch: 110 Loss G.: 0.6759068369865417\n",
      "Epoch: 120 Loss D.: 0.6443822979927063\n",
      "Epoch: 120 Loss G.: 0.7919821739196777\n",
      "Epoch: 130 Loss D.: 0.6855082511901855\n",
      "Epoch: 130 Loss G.: 0.6470685005187988\n",
      "Epoch: 140 Loss D.: 0.6788297891616821\n",
      "Epoch: 140 Loss G.: 0.8549441695213318\n",
      "Epoch: 150 Loss D.: 0.6176083087921143\n",
      "Epoch: 150 Loss G.: 0.8673284649848938\n",
      "Epoch: 160 Loss D.: 0.6919971108436584\n",
      "Epoch: 160 Loss G.: 0.6945667266845703\n",
      "Epoch: 170 Loss D.: 0.6011291146278381\n",
      "Epoch: 170 Loss G.: 0.881275475025177\n",
      "Epoch: 180 Loss D.: 0.6644777655601501\n",
      "Epoch: 180 Loss G.: 0.8924918174743652\n",
      "Epoch: 190 Loss D.: 0.7090494632720947\n",
      "Epoch: 190 Loss G.: 0.7154881954193115\n",
      "Epoch: 200 Loss D.: 0.6446380615234375\n",
      "Epoch: 200 Loss G.: 0.7086005806922913\n",
      "Epoch: 210 Loss D.: 0.6229179501533508\n",
      "Epoch: 210 Loss G.: 0.7850686311721802\n",
      "Epoch: 220 Loss D.: 0.7302606701850891\n",
      "Epoch: 220 Loss G.: 0.6770604252815247\n",
      "Epoch: 230 Loss D.: 0.6955176591873169\n",
      "Epoch: 230 Loss G.: 0.7404682040214539\n",
      "Epoch: 240 Loss D.: 0.5922134518623352\n",
      "Epoch: 240 Loss G.: 0.8906928300857544\n",
      "Epoch: 250 Loss D.: 0.6638871431350708\n",
      "Epoch: 250 Loss G.: 0.7392774224281311\n",
      "Epoch: 260 Loss D.: 0.5989243984222412\n",
      "Epoch: 260 Loss G.: 0.9685262441635132\n",
      "Epoch: 270 Loss D.: 0.66866534948349\n",
      "Epoch: 270 Loss G.: 0.7307413220405579\n",
      "Epoch: 280 Loss D.: 0.7080614566802979\n",
      "Epoch: 280 Loss G.: 0.6465268135070801\n",
      "Epoch: 290 Loss D.: 0.6617457270622253\n",
      "Epoch: 290 Loss G.: 0.8118594884872437\n"
     ]
    }
   ],
   "source": [
    "for epoch in range(num_epochs):\n",
    "    for n, (real_samples, _) in enumerate(train_loader):\n",
    "        # Data for training the discriminator\n",
    "        real_samples_labels = torch.ones((batch_size, 1))\n",
    "        latent_space_samples = torch.randn((batch_size, 2))\n",
    "        generated_samples = generator(latent_space_samples)\n",
    "        generated_samples_labels = torch.zeros((batch_size, 1))\n",
    "        all_samples = torch.cat((real_samples, generated_samples))\n",
    "        all_samples_labels = torch.cat(\n",
    "            (real_samples_labels, generated_samples_labels)\n",
    "        )\n",
    "\n",
    "        # Training the discriminator\n",
    "        discriminator.zero_grad()\n",
    "        output_discriminator = discriminator(all_samples)\n",
    "        loss_discriminator = loss_function(\n",
    "            output_discriminator, all_samples_labels)\n",
    "        loss_discriminator.backward()\n",
    "        optimizer_discriminator.step()\n",
    "\n",
    "        # Data for training the generator\n",
    "        latent_space_samples = torch.randn((batch_size, 2))\n",
    "\n",
    "        # Training the generator\n",
    "        generator.zero_grad()\n",
    "        generated_samples = generator(latent_space_samples)\n",
    "        output_discriminator_generated = discriminator(generated_samples)\n",
    "        loss_generator = loss_function(\n",
    "            output_discriminator_generated, real_samples_labels\n",
    "        )\n",
    "        loss_generator.backward()\n",
    "        optimizer_generator.step()\n",
    "\n",
    "        # Show loss\n",
    "        if epoch % 10 == 0 and n == batch_size - 1:\n",
    "            print(f\"Epoch: {epoch} Loss D.: {loss_discriminator}\")\n",
    "            print(f\"Epoch: {epoch} Loss G.: {loss_generator}\")"
   ]
  },
  {
   "cell_type": "code",
   "execution_count": 11,
   "metadata": {},
   "outputs": [],
   "source": [
    "latent_space_samples = torch.randn(100, 2)\n",
    "generated_samples = generator(latent_space_samples)"
   ]
  },
  {
   "cell_type": "code",
   "execution_count": 12,
   "metadata": {},
   "outputs": [
    {
     "data": {
      "text/plain": [
       "[<matplotlib.lines.Line2D at 0x7f4a3c2ecc10>]"
      ]
     },
     "execution_count": 12,
     "metadata": {},
     "output_type": "execute_result"
    },
    {
     "data": {
      "image/png": "[encoded data removed]",
      "text/plain": [
       "<Figure size 432x288 with 1 Axes>"
      ]
     },
     "metadata": {
      "needs_background": "light"
     },
     "output_type": "display_data"
    }
   ],
   "source": [
    "generated_samples = generated_samples.detach()\n",
    "plt.plot(generated_samples[:, 0], generated_samples[:, 1], \".\")"
   ]
  },
  {
   "cell_type": "code",
   "execution_count": null,
   "metadata": {},
   "outputs": [],
   "source": []
  }
 ],
 "metadata": {
  "kernelspec": {
   "display_name": "gan",
   "language": "python",
   "name": "gan"
  },
  "language_info": {
   "codemirror_mode": {
    "name": "ipython",
    "version": 3
   },
   "file_extension": ".py",
   "mimetype": "text/x-python",
   "name": "python",
   "nbconvert_exporter": "python",
   "pygments_lexer": "ipython3",
   "version": "3.8.3"
  }
 },
 "nbformat": 4,
 "nbformat_minor": 4
}
